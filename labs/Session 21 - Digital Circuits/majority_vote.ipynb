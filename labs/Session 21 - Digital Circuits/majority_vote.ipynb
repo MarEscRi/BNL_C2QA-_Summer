{
 "cells": [
  {
   "cell_type": "code",
   "execution_count": null,
   "id": "5721223f-4e25-459e-b07d-3e4ac93738b2",
   "metadata": {},
   "outputs": [],
   "source": [
    "# majority_vote.ipynb\n",
    "\n",
    "# Cell 1 - Create classical bits and Boolean gates\n",
    "\n",
    "import numpy as np\n",
    "from IPython.display import Math\n",
    "from qiskit.visualization import array_to_latex\n",
    "\n",
    "f = np.array([1, 0])\n",
    "t = np.array([0, 1])\n",
    "\n",
    "g_not = np.array([[0, 1], [1, 0]])\n",
    "g_and = np.array([[1, 1, 1, 0], [0, 0, 0, 1]])\n",
    "g_or = np.array([[1, 0, 0, 0], [0, 1, 1, 1]])\n",
    "\n",
    "display(array_to_latex(f, prefix=r\"\\mathbf{F}=\"))\n",
    "display(array_to_latex(t, prefix=r\"\\mathbf{T}=\"))\n",
    "\n",
    "display(array_to_latex(g_not, prefix=r\"\\mathbf{NOT}=\"))\n",
    "display(array_to_latex(g_and, prefix=r\"\\mathbf{AND}=\"))\n",
    "display(array_to_latex(g_or, prefix=r\"\\mathbf{OR}=\"))"
   ]
  },
  {
   "cell_type": "code",
   "execution_count": null,
   "id": "7af626e8-8c78-4e5e-8829-48a4c150db58",
   "metadata": {},
   "outputs": [],
   "source": [
    "# Cell 2 - Implement Boolean circuit using matrix algebra\n",
    "\n",
    "\n",
    "def circuit(a, b, c):\n",
    "    g1 = np.dot(g_and, np.kron(a, b))\n",
    "    g2 = np.dot(g_and, np.kron(b, c))\n",
    "    # TODO: Fix this next line\n",
    "    g3 = t\n",
    "    g4 = np.dot(g_or, np.kron(g1, g2))\n",
    "    # TODO: Fix this next line\n",
    "    g5 = f\n",
    "    return g5\n",
    "\n",
    "\n",
    "# Create truth table for three inputs and show the output\n",
    "for a in [f, t]:\n",
    "    for b in [f, t]:\n",
    "        for c in [f, t]:\n",
    "            print(f\"a: {a}\", end=\"  \")\n",
    "            print(f\"b: {b}\", end=\"  \")\n",
    "            print(f\"c: {c}\", end=\"  \")\n",
    "            print(f\"v: {circuit(a, b, c)}\")"
   ]
  }
 ],
 "metadata": {
  "kernelspec": {
   "display_name": "Python 3 (ipykernel)",
   "language": "python",
   "name": "python3"
  },
  "language_info": {
   "codemirror_mode": {
    "name": "ipython",
    "version": 3
   },
   "file_extension": ".py",
   "mimetype": "text/x-python",
   "name": "python",
   "nbconvert_exporter": "python",
   "pygments_lexer": "ipython3",
   "version": "3.10.4"
  }
 },
 "nbformat": 4,
 "nbformat_minor": 5
}
