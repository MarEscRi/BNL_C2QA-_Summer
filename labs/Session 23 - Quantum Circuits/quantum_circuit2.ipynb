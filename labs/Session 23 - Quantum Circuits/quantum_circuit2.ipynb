{
 "cells": [
  {
   "cell_type": "code",
   "execution_count": null,
   "id": "635e333e-805a-4eb0-a85a-bd5745deaabb",
   "metadata": {},
   "outputs": [],
   "source": [
    "# quantum_circuit2.ipynb\n",
    "\n",
    "# Cell 1 - Circuit to produce only two states (63 or 64 decimal)\n",
    "# The last X gate makes all other qubits the opposite of the MSB\n",
    "# What we do to one entangled qubit (q6) instantly affects all of\n",
    "# the other entangled qubits (q5 to q0)\n",
    "\n",
    "import matplotlib.pyplot as plt\n",
    "import numpy as np\n",
    "import qiskit\n",
    "from IPython.display import Math\n",
    "from qiskit import (\n",
    "    Aer,\n",
    "    ClassicalRegister,\n",
    "    QuantumCircuit,\n",
    "    QuantumRegister,\n",
    "    assemble,\n",
    "    execute,\n",
    ")\n",
    "from qiskit.quantum_info import Statevector\n",
    "from qiskit.visualization import (\n",
    "    array_to_latex,\n",
    "    plot_bloch_multivector,\n",
    "    plot_histogram,\n",
    "    plot_state_qsphere,\n",
    ")\n",
    "\n",
    "backend = Aer.get_backend(\"aer_simulator\")\n",
    "\n",
    "qc = QuantumCircuit(7)\n",
    "qc.h(0)\n",
    "qc.cx(0, 1)\n",
    "qc.cx(1, 2)\n",
    "qc.cx(2, 3)\n",
    "qc.cx(3, 4)\n",
    "qc.cx(4, 5)\n",
    "qc.cx(5, 6)\n",
    "qc.x(6)\n",
    "qc.save_statevector()\n",
    "\n",
    "result = execute(qc, backend).result()\n",
    "counts = result.get_counts()\n",
    "\n",
    "display(qc.draw(output=\"mpl\", scale=1.5))\n",
    "\n",
    "plot_histogram(counts)"
   ]
  }
 ],
 "metadata": {
  "kernelspec": {
   "display_name": "Python 3 (ipykernel)",
   "language": "python",
   "name": "python3"
  },
  "language_info": {
   "codemirror_mode": {
    "name": "ipython",
    "version": 3
   },
   "file_extension": ".py",
   "mimetype": "text/x-python",
   "name": "python",
   "nbconvert_exporter": "python",
   "pygments_lexer": "ipython3",
   "version": "3.10.4"
  }
 },
 "nbformat": 4,
 "nbformat_minor": 5
}
