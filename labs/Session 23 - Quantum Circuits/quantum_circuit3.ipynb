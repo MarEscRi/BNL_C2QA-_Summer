{
 "cells": [
  {
   "cell_type": "code",
   "execution_count": null,
   "id": "305f02dc-6104-4d77-89e2-2d5a24d9d630",
   "metadata": {},
   "outputs": [],
   "source": [
    "# quantum_circuit3.ipynb\n",
    "\n",
    "# Cell 1 - Entangled CCNOTs (single shot)\n",
    "\n",
    "import matplotlib.pyplot as plt\n",
    "import numpy as np\n",
    "import qiskit\n",
    "from IPython.display import Math\n",
    "from qiskit import (\n",
    "    Aer,\n",
    "    ClassicalRegister,\n",
    "    QuantumCircuit,\n",
    "    QuantumRegister,\n",
    "    assemble,\n",
    "    execute,\n",
    ")\n",
    "from qiskit.quantum_info import Statevector\n",
    "from qiskit.visualization import (\n",
    "    array_to_latex,\n",
    "    plot_bloch_multivector,\n",
    "    plot_histogram,\n",
    "    plot_state_qsphere,\n",
    ")\n",
    "\n",
    "backend = Aer.get_backend(\"aer_simulator\")\n",
    "\n",
    "qc = QuantumCircuit(7)\n",
    "qc.h(0)\n",
    "qc.h(1)\n",
    "qc.ccx(0, 1, 2)\n",
    "qc.h(3)\n",
    "qc.h(4)\n",
    "qc.ccx(3, 4, 5)\n",
    "qc.ccx(2, 5, 6)\n",
    "qc.save_statevector()\n",
    "\n",
    "result = execute(qc, backend).result()\n",
    "counts = result.get_counts()\n",
    "\n",
    "display(qc.draw(output=\"mpl\", scale=1.5))\n",
    "\n",
    "plot_histogram(counts, figsize=(10, 6))"
   ]
  },
  {
   "cell_type": "code",
   "execution_count": null,
   "id": "50e7da3a-c9e2-4fae-a8f2-d0fdd710293d",
   "metadata": {},
   "outputs": [],
   "source": [
    "# Cell 2 - # Cell 1 - Entangled CCNOTs (multiple shot)\n",
    "\n",
    "backend = Aer.get_backend(\"aer_simulator\")\n",
    "\n",
    "qc = QuantumCircuit(7, 1)\n",
    "qc.h(0)\n",
    "qc.h(1)\n",
    "qc.ccx(0, 1, 2)\n",
    "qc.h(3)\n",
    "qc.h(4)\n",
    "qc.ccx(3, 4, 5)\n",
    "qc.ccx(2, 5, 6)\n",
    "qc.save_statevector()\n",
    "qc.measure(6, 0)\n",
    "\n",
    "\n",
    "result = execute(qc, backend, shots=100_000).result()\n",
    "counts = result.get_counts()\n",
    "\n",
    "display(qc.draw(output=\"mpl\", scale=1.5))\n",
    "\n",
    "plot_histogram(counts)"
   ]
  }
 ],
 "metadata": {
  "kernelspec": {
   "display_name": "Python 3 (ipykernel)",
   "language": "python",
   "name": "python3"
  },
  "language_info": {
   "codemirror_mode": {
    "name": "ipython",
    "version": 3
   },
   "file_extension": ".py",
   "mimetype": "text/x-python",
   "name": "python",
   "nbconvert_exporter": "python",
   "pygments_lexer": "ipython3",
   "version": "3.10.4"
  }
 },
 "nbformat": 4,
 "nbformat_minor": 5
}
