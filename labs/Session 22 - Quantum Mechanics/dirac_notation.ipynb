{
 "cells": [
  {
   "cell_type": "code",
   "execution_count": null,
   "id": "a0890b85-eb8b-437a-b302-8872deb27909",
   "metadata": {
    "tags": []
   },
   "outputs": [],
   "source": [
    "\"\"\"dirac_notation.ipynb\"\"\"\n",
    "# Cell 1 - Complex Amplitudes - Probability\n",
    "\n",
    "from __future__ import annotations\n",
    "\n",
    "import typing\n",
    "\n",
    "import array_to_latex as a2l\n",
    "import numpy as np\n",
    "from IPython.core.display import Math\n",
    "\n",
    "if typing.TYPE_CHECKING:\n",
    "    from numpy.typing import NDArray\n",
    "\n",
    "%matplotlib widget\n",
    "\n",
    "psi: NDArray[np.complex_] = np.array([-3 - 1j, -2j, 1j, 2])\n",
    "norm_psi: float = float(np.linalg.norm(psi))\n",
    "c2: float = abs(psi[2])\n",
    "\n",
    "display(\n",
    "    Math(\n",
    "        (\n",
    "            r\"\\mathbf{\\lvert\\psi\\rangle}=\"\n",
    "            f\"{a2l.to_ltx(psi[:, np.newaxis], print_out=False)}$\"\n",
    "        )\n",
    "    )\n",
    ")\n",
    "\n",
    "print(f\"Probability of outcome 2 = {c2**2 / norm_psi**2:.4%}\")"
   ]
  },
  {
   "cell_type": "code",
   "execution_count": null,
   "id": "d3a57077-358b-4b88-9cc3-9228bb92bfee",
   "metadata": {
    "tags": []
   },
   "outputs": [],
   "source": [
    "# Cell 2 - Multiplying a ket by a scalar\n",
    "\n",
    "s: complex = -2.3 - 11j\n",
    "s_psi: NDArray[np.complex_] = s * psi\n",
    "\n",
    "norm_s_psi: float = float(np.linalg.norm(s_psi))\n",
    "c: float = abs(s_psi[2])\n",
    "\n",
    "display(Math(rf\"\\mathbf{{s=}}\\;{s}\"))\n",
    "display(\n",
    "    Math(\n",
    "        (\n",
    "            r\"$\\mathbf{(s)\\lvert\\psi\\rangle}=\"\n",
    "            f\"{a2l.to_ltx(s_psi[:,np.newaxis], print_out=False)}$\"\n",
    "        )\n",
    "    )\n",
    ")\n",
    "\n",
    "print(f\"Probability of outcome 2 = {c**2 / norm_s_psi**2:.4%}\")"
   ]
  },
  {
   "cell_type": "code",
   "execution_count": null,
   "id": "24945b94-5e75-466d-a8c1-de3c462e067a",
   "metadata": {
    "tags": []
   },
   "outputs": [],
   "source": [
    "# Cell 3 - Normalizing a ket\n",
    "\n",
    "psi: NDArray[np.complex_] = np.array([2 - 3j, 1 + 2j])\n",
    "\n",
    "norm_psi: float = float(np.linalg.norm(psi))\n",
    "normed_psi: NDArray[np.complex_] = psi / norm_psi\n",
    "\n",
    "display(\n",
    "    Math(\n",
    "        (\n",
    "            r\"$\\mathbf{\\lvert\\psi\\rangle}=\"\n",
    "            f\"{a2l.to_ltx(psi[:,np.newaxis], print_out=False)}$\"\n",
    "        )\n",
    "    )\n",
    ")\n",
    "\n",
    "display(Math(rf\"\\mathbf{{\\|\\psi\\|}}=\\;{norm_psi:.4f}\"))\n",
    "\n",
    "display(\n",
    "    Math(\n",
    "        (\n",
    "            r\"\\mathbf{\\frac{\\lvert\\psi\\rangle}{{\\|\\psi\\|}}}=\"\n",
    "            f\"{a2l.to_ltx(normed_psi[:, np.newaxis], frmt='{:6.4f}', print_out=False)}$\"\n",
    "        )\n",
    "    )\n",
    ")"
   ]
  },
  {
   "cell_type": "code",
   "execution_count": null,
   "id": "835ab5f8-5431-470d-be1c-07c1bee4515b",
   "metadata": {
    "tags": []
   },
   "outputs": [],
   "source": [
    "# Cell 4 - Transition amplitude\n",
    "\n",
    "# Start State\n",
    "psi: NDArray[np.complex_] = np.array([1, -1j])\n",
    "\n",
    "# End State\n",
    "phi: NDArray[np.complex_] = np.array([1j, 1])\n",
    "\n",
    "# Create Dirac \"bra-ket\"\n",
    "bra_phi: NDArray[np.complex_] = phi.conj().T\n",
    "bracket_phi_psi: NDArray[np.complex_] = np.dot(bra_phi, psi)\n",
    "\n",
    "# Calculate transition amplitude\n",
    "norm_psi: float = float(np.linalg.norm(psi))\n",
    "norm_phi: float = float(np.linalg.norm(phi))\n",
    "amp: NDArray[np.complex_] = bracket_phi_psi / (norm_psi * norm_phi)\n",
    "\n",
    "display(\n",
    "    Math(\n",
    "        (\n",
    "            r\"\\text{Start state:}\\;\\mathbf{\\lvert\\psi\\rangle}=\"\n",
    "            f\"{a2l.to_ltx(psi[:, np.newaxis], frmt='{:6.4f}', print_out=False)}$\"\n",
    "        )\n",
    "    )\n",
    ")\n",
    "\n",
    "display(\n",
    "    Math(\n",
    "        (\n",
    "            r\"\\text{End state:}\\;\\mathbf{\\lvert\\phi\\rangle}=\"\n",
    "            f\"{a2l.to_ltx(phi[:, np.newaxis], frmt='{:6.4f}', print_out=False)}$\"\n",
    "        )\n",
    "    )\n",
    ")\n",
    "\n",
    "display(Math(rf\"\\mathbf{{\\langle\\phi\\lvert\\psi\\rangle}}=\\;{bracket_phi_psi:.4f}\"))\n",
    "\n",
    "display(\n",
    "    Math(\n",
    "        (\n",
    "            r\"\\mathbf{\\frac{\\langle\\phi\\lvert\\psi\\rangle}{\\lvert\\lvert\\phi\\rangle\\lvert\\;\\lvert\\lvert\\psi\\rangle\\lvert}=\\;}\"\n",
    "            f\"{amp:.4f}\"\n",
    "        )\n",
    "    )\n",
    ")"
   ]
  }
 ],
 "metadata": {
  "kernelspec": {
   "display_name": "Python 3 (ipykernel)",
   "language": "python",
   "name": "python3"
  },
  "language_info": {
   "codemirror_mode": {
    "name": "ipython",
    "version": 3
   },
   "file_extension": ".py",
   "mimetype": "text/x-python",
   "name": "python",
   "nbconvert_exporter": "python",
   "pygments_lexer": "ipython3",
   "version": "3.9.16"
  },
  "vscode": {
   "interpreter": {
    "hash": "4431dc44d4f2686070e0fc53d953ad3cc7928e817d4e69983712ddc54c23870a"
   }
  }
 },
 "nbformat": 4,
 "nbformat_minor": 5
}
