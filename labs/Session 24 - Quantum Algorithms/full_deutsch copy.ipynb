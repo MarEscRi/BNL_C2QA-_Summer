{
 "cells": [
  {
   "cell_type": "code",
   "execution_count": 52,
   "id": "6fae34e6-bfdf-4627-8b00-03e4c7a33d1e",
   "metadata": {},
   "outputs": [
    {
     "data": {
      "image/png": "[encoded data removed]",
      "text/plain": [
       "<Figure size 932.911x426.417 with 1 Axes>"
      ]
     },
     "metadata": {},
     "output_type": "display_data"
    },
    {
     "data": {
      "text/latex": [
       "$\\displaystyle \\large\\begin{bmatrix}0 &0 &0 &0 &1 &0 &0 &0\\\\[1em]1 &0 &0 &0 &0 &0 &0 &0\\\\[1em]0 &0 &0 &0 &0 &0 &1 &0\\\\[1em]0 &0 &1 &0 &0 &0 &0 &0\\\\[1em]0 &0 &0 &0 &0 &1 &0 &0\\\\[1em]0 &1 &0 &0 &0 &0 &0 &0\\\\[1em]0 &0 &0 &0 &0 &0 &0 &1\\\\[1em]0 &0 &0 &1 &0 &0 &0 &0\\\\\\end{bmatrix}$"
      ],
      "text/plain": [
       "<IPython.core.display.Math object>"
      ]
     },
     "metadata": {},
     "output_type": "display_data"
    },
    {
     "data": {
      "text/latex": [
       "$\\displaystyle \\large\\ket{0}\\rightarrow\\begin{bmatrix}0 &1 &0 &0 &0 &0 &0 &0\\\\\\end{bmatrix}$"
      ],
      "text/plain": [
       "<IPython.core.display.Math object>"
      ]
     },
     "metadata": {},
     "output_type": "display_data"
    },
    {
     "data": {
      "text/latex": [
       "$\\displaystyle \\large\\ket{1}\\rightarrow\\begin{bmatrix}0 &0 &0 &0 &0 &1 &0 &0\\\\\\end{bmatrix}$"
      ],
      "text/plain": [
       "<IPython.core.display.Math object>"
      ]
     },
     "metadata": {},
     "output_type": "display_data"
    }
   ],
   "source": [
    "# \"\"\"full_deutsch.ipynb\"\"\"\n",
    "# Cell 1 - Deutsch's Algorithm\n",
    "\n",
    "from __future__ import annotations\n",
    "\n",
    "import typing\n",
    "\n",
    "import numpy as np\n",
    "\n",
    "from qiskit import Aer, QuantumCircuit, execute  # type: ignore\n",
    "from qiskit.visualization import plot_bloch_multivector  # type: ignore\n",
    "from qiskit.visualization import plot_distribution  # type: ignore\n",
    "from qiskit.visualization import plot_state_qsphere  # type: ignore\n",
    "from qis101_utils import as_latex\n",
    "\n",
    "if typing.TYPE_CHECKING:\n",
    "    from typing import Any\n",
    "\n",
    "    # from numpy.typing import NDArray\n",
    "\n",
    "\n",
    "# Secret Oracle function\n",
    "f: int = 0  # BALANCED circuit (NOP)\n",
    "f: int = 1  # BALANCED circuit (NOT)\n",
    "f: int = 2  # CONSTANT circuit (Always 0)\n",
    "f: int = 3  # CONSTANT circuit (Always 1)\n",
    "\n",
    "backend: Any = Aer.get_backend(\"aer_simulator\")\n",
    "qc: Any = QuantumCircuit(3)\n",
    "\n",
    "qc.x(2)\n",
    "\n",
    "f = 3\n",
    "\n",
    "# Implement the Oracle (the secret circuit)\n",
    "qc.barrier()\n",
    "if f == int(0):  # NOP\n",
    "    pass\n",
    "if f == int(1):  # NOT\n",
    "    qc.x(0)\n",
    "if f == int(2):  # Always zero\n",
    "    qc.swap(0, 1)\n",
    "if f == int(3):  # Always one\n",
    "    qc.swap(0, 2)\n",
    "qc.barrier()\n",
    "\n",
    "qc.save_unitary()\n",
    "\n",
    "result: Any = execute(qc, backend).result()\n",
    "unitary: Any = result.get_unitary()\n",
    "\n",
    "display(qc.draw(output=\"mpl\", scale=1.5))\n",
    "\n",
    "display(as_latex(unitary))\n",
    "display(\n",
    "    as_latex(\n",
    "        np.dot(unitary, np.array([1, 0, 0, 0, 0, 0, 0, 0])),\n",
    "        prefix=r\"\\ket{0}\\rightarrow\",\n",
    "    )\n",
    ")\n",
    "display(\n",
    "    as_latex(\n",
    "        np.dot(unitary, np.array([0, 1, 0, 0, 0, 0, 0, 0])),\n",
    "        prefix=r\"\\ket{1}\\rightarrow\",\n",
    "    )\n",
    ")"
   ]
  }
 ],
 "metadata": {
  "kernelspec": {
   "display_name": "Python 3 (ipykernel)",
   "language": "python",
   "name": "python3"
  },
  "language_info": {
   "codemirror_mode": {
    "name": "ipython",
    "version": 3
   },
   "file_extension": ".py",
   "mimetype": "text/x-python",
   "name": "python",
   "nbconvert_exporter": "python",
   "pygments_lexer": "ipython3",
   "version": "3.9.16"
  }
 },
 "nbformat": 4,
 "nbformat_minor": 5
}
