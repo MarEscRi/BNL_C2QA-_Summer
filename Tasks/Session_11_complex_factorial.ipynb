{
 "cells": [
  {
   "cell_type": "markdown",
   "id": "6fd24fb3-fae0-4eb2-b2f0-108066ff0730",
   "metadata": {},
   "source": [
    "We wish to calculate $i!$, given Eulers Gamma function: \n",
    "\\begin{gather}\n",
    "    \\Gamma(s) = \\int_{0}^{\\infty} x^{s-1} e^{-x} dx\n",
    "\\end{gather}\n",
    "For which we know that: \n",
    "\\begin{gather}\n",
    "    s! = \\Gamma(s + 1) =  \\int_{0}^{\\infty} x^{s} e^{-x} dx\n",
    "\\end{gather}\n",
    "We know let $s = i$, make use of $x^i = e^{i\\ln{x}}$ and eulers identity. Which leaves two integrals:\n",
    "\\begin{align}\n",
    "    i! &=  \\int_{0}^{\\infty} x^{i}e^{-x} dx \\\\\n",
    "    & =  \\int_{0}^{\\infty} e^{i\\ln{x}}e^{-x}dx \\\\\n",
    "    & =  \\int_{0}^{\\infty} e^{-x} \\cos{(\\ln{x})} dx +  i\\int_{0}^{\\infty} e^{-x}\\sin{(\\ln{x})} dx \\\\\n",
    "\\end{align}"
   ]
  },
  {
   "cell_type": "code",
   "execution_count": 54,
   "id": "76447ab5-0af5-4f71-8dfd-cb6c39fbebcd",
   "metadata": {},
   "outputs": [
    {
     "data": {
      "text/latex": [
       "$\\displaystyle i!=(0.49801566811841225-0.15494982827999618j)$"
      ],
      "text/plain": [
       "<IPython.core.display.Math object>"
      ]
     },
     "metadata": {},
     "output_type": "display_data"
    }
   ],
   "source": [
    "\"\"\"complex_factorial.ipynb\"\"\"\n",
    "# Cell 2\n",
    "\n",
    "import numpy as np\n",
    "from IPython.core.display import Math\n",
    "from scipy.integrate import quad  # type: ignore\n",
    "\n",
    "# We cannot raise e^x to a greater exponent value than this\n",
    "max_exponent = int(np.log(np.finfo(np.longdouble).max) - 1)\n",
    "\n",
    "\n",
    "def Re_i(x: float) -> float:\n",
    "    \"\"\"\n",
    "    This function provides the real part of i!\n",
    "    \"\"\"\n",
    "    if x < max_exponent:\n",
    "        return np.exp(-x) * np.cos( np.log(x) )\n",
    "    return 0.0\n",
    "\n",
    "def Im_i(x: float) -> float:\n",
    "    \"\"\"\n",
    "    This function provides the imaginary part of i!\n",
    "    \"\"\"\n",
    "    if x < max_exponent:\n",
    "        return np.exp(-x) * np.sin( np.log(x) )\n",
    "    return 0.0\n",
    "\n",
    "def main() -> None:\n",
    "\n",
    "    # Use scipy to integrate f(x, s) from 0 to 1000\n",
    "    a: float = quad(Re_i, 0, 1000)[0] # Real part of i!\n",
    "    b: float = quad(Im_i, 0, 1000)[0] # Imaginary part of i!\n",
    "\n",
    "    display(Math(rf\"i!={complex(a,b)}\"))\n",
    "\n",
    "main()"
   ]
  },
  {
   "cell_type": "markdown",
   "id": "24717518-ca07-4d1e-85a6-9f07091a44fd",
   "metadata": {},
   "source": [
    "More generally we have that for any $c = a + bi$ \n",
    "\\begin{gather}\n",
    "    c! = \\int_{0}^{\\infty} x^{a + bi} e^{-x} dx\n",
    "\\end{gather}\n",
    "We know let $s = i$, make use of $x^i = e^{i\\ln{x}}$ and eulers identity. Which leaves two integrals:\n",
    "\\begin{align}\n",
    "    i! &=  \\int_{0}^{\\infty} x^{a}x^{bi}e^{-x} dx \\\\\n",
    "    & =  \\int_{0}^{\\infty}  x^{a}e^{bi\\ln{x}}e^{-x}dx \\\\\n",
    "    & =  \\int_{0}^{\\infty} x^{a} e^{-x} \\cos{(b\\ln{x})} dx +  i\\int_{0}^{\\infty} x^{a}e^{-x}\\sin{(b\\ln{x})} dx \\\\\n",
    "\\end{align}"
   ]
  },
  {
   "cell_type": "code",
   "execution_count": 2,
   "id": "728edfc1-b5fd-47c1-b5b1-eed27481e5b3",
   "metadata": {},
   "outputs": [
    {
     "data": {
      "text/latex": [
       "$\\displaystyle c!=(0.49801566811841225+0.08727652501670213j)$"
      ],
      "text/plain": [
       "<IPython.core.display.Math object>"
      ]
     },
     "metadata": {},
     "output_type": "display_data"
    }
   ],
   "source": [
    "\"\"\"complex_factorial.ipynb\"\"\"\n",
    "# Cell 3\n",
    "\n",
    "import numpy as np\n",
    "from IPython.core.display import Math\n",
    "from scipy.integrate import quad  # type: ignore\n",
    "\n",
    "# We cannot raise e^x to a greater exponent value than this\n",
    "max_exponent = int(np.log(np.finfo(np.longdouble).max) - 1)\n",
    "\n",
    "\n",
    "def Re_c(x: float, a: float, b: float) -> float:\n",
    "    \"\"\"\n",
    "    This function provides the real part of i!\n",
    "    \"\"\"\n",
    "    if x < max_exponent:\n",
    "        return np.power(x,a) * np.exp(-x) * np.cos( b * np.log(x) )\n",
    "    return 0.0\n",
    "\n",
    "def Im_c(x: float, a: float, b: float) -> float:\n",
    "    \"\"\"\n",
    "    This function provides the imaginary part of i!\n",
    "    \"\"\"\n",
    "    if x < max_exponent:\n",
    "        return np.power(x,a) * np.exp(-x) * np.sin( b * np.log(x) )\n",
    "    return 0.0\n",
    "\n",
    "def main() -> None:\n",
    "    # real and imaginary part of an arbitrary complex number\n",
    "    a: float = 0\n",
    "    b: float = 1\n",
    "    \n",
    "    # Use scipy to integrate f(x, s) from 0 to 1000\n",
    "    a: float = quad(Re_c, 0, 1000, args=(a,b,))[0] # Real part of i!\n",
    "    b: float = quad(Im_c, 0, 1000, args=(a,b,))[0] # Imaginary part of i!\n",
    "\n",
    "    display(Math(rf\"c!={complex(a,b)}\"))\n",
    "\n",
    "main()\n",
    "\n",
    "# Something in this code is eronous given that the imaginary part is incorrect\n"
   ]
  },
  {
   "cell_type": "code",
   "execution_count": null,
   "id": "d29b940e-0c73-4b5e-aa6b-4ec3c6ce121c",
   "metadata": {},
   "outputs": [],
   "source": []
  }
 ],
 "metadata": {
  "kernelspec": {
   "display_name": "Python 3 (ipykernel)",
   "language": "python",
   "name": "python3"
  },
  "language_info": {
   "codemirror_mode": {
    "name": "ipython",
    "version": 3
   },
   "file_extension": ".py",
   "mimetype": "text/x-python",
   "name": "python",
   "nbconvert_exporter": "python",
   "pygments_lexer": "ipython3",
   "version": "3.9.16"
  }
 },
 "nbformat": 4,
 "nbformat_minor": 5
}
