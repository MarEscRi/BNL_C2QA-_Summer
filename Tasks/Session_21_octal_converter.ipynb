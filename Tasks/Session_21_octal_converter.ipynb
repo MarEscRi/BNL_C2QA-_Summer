{
 "cells": [
  {
   "cell_type": "code",
   "execution_count": 17,
   "id": "c63f7411-1d31-4402-9bed-6fae149d3492",
   "metadata": {},
   "outputs": [
    {
     "name": "stdout",
     "output_type": "stream",
     "text": [
      "Octal representation: 2323\n",
      "Decimal representation: 1235\n"
     ]
    }
   ],
   "source": [
    "def oct_to_dec(oct: int) -> int:\n",
    "    \"\"\"\n",
    "    converts integer in base 8 representation to base 10 \n",
    "    \"\"\"\n",
    "    dec: int = 0\n",
    "    p: int = 0\n",
    "\n",
    "    while oct > 0:\n",
    "        d: int = oct % 10\n",
    "        dec += d * (8 ** p)\n",
    "        p += 1\n",
    "        oct //= 10\n",
    "\n",
    "    return dec\n",
    "\n",
    "n8: int = 2323\n",
    "\n",
    "n10: int = oct_to_dec(n8)\n",
    "\n",
    "print(f\"Octal representation: {n8}\")\n",
    "print(f\"Decimal representation: {n10}\")"
   ]
  },
  {
   "cell_type": "code",
   "execution_count": 18,
   "id": "b97f8548-6ab0-4894-be54-6edfdd54d887",
   "metadata": {},
   "outputs": [
    {
     "name": "stdout",
     "output_type": "stream",
     "text": [
      "Decimal number: 1235\n",
      "Octal number: 2323\n"
     ]
    }
   ],
   "source": [
    "def dec_to_oct(dec: int) -> int:\n",
    "    \"\"\"\n",
    "    converts integer in base 10 representation to base 8 \n",
    "    \"\"\"\n",
    "    if dec == 0:\n",
    "        return 0\n",
    "\n",
    "    oct: str = \"\"\n",
    "    \n",
    "    while dec > 0:\n",
    "        r: int = dec % 8\n",
    "        oct = str(r) + oct\n",
    "        dec //= 8\n",
    "\n",
    "    return int(oct)\n",
    "\n",
    "n10: int = 1235\n",
    "\n",
    "n8: int = dec_to_oct(n10)\n",
    "\n",
    "print(f\"Decimal number: {n10}\")\n",
    "print(f\"Octal number: {n8}\")"
   ]
  },
  {
   "cell_type": "code",
   "execution_count": 19,
   "id": "846a5555-4833-4682-8cd0-b64c12206fb2",
   "metadata": {},
   "outputs": [
    {
     "name": "stdout",
     "output_type": "stream",
     "text": [
      "Octal number: 2323\n",
      "Decimal number: 1235\n"
     ]
    }
   ],
   "source": [
    "n8: int = 2323\n",
    "\n",
    "n10: int = int(str(n8), 8)\n",
    "\n",
    "print(f\"Octal number: {n8}\")\n",
    "print(f\"Decimal number: {n10}\")"
   ]
  },
  {
   "cell_type": "code",
   "execution_count": 20,
   "id": "b40bb840-674e-4fa0-adb4-fa4f776ca4c2",
   "metadata": {},
   "outputs": [
    {
     "name": "stdout",
     "output_type": "stream",
     "text": [
      "Decimal number: 1235\n",
      "Octal number: 2323\n"
     ]
    }
   ],
   "source": [
    "n10: int = 1235 \n",
    "\n",
    "n8: int = int(oct(n10).lstrip(\"0o\"))\n",
    "\n",
    "print(f\"Decimal number: {n10}\")\n",
    "print(f\"Octal number: {n8}\")"
   ]
  },
  {
   "cell_type": "code",
   "execution_count": null,
   "id": "eebf757e-47f5-4b29-9a09-078c45d2b830",
   "metadata": {},
   "outputs": [],
   "source": []
  }
 ],
 "metadata": {
  "kernelspec": {
   "display_name": "Python 3 (ipykernel)",
   "language": "python",
   "name": "python3"
  },
  "language_info": {
   "codemirror_mode": {
    "name": "ipython",
    "version": 3
   },
   "file_extension": ".py",
   "mimetype": "text/x-python",
   "name": "python",
   "nbconvert_exporter": "python",
   "pygments_lexer": "ipython3",
   "version": "3.9.16"
  }
 },
 "nbformat": 4,
 "nbformat_minor": 5
}
