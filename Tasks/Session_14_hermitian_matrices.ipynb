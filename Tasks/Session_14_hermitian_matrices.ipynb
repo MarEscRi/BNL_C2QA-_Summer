{
 "cells": [
  {
   "cell_type": "code",
   "execution_count": 8,
   "id": "a114f0a9-a0bf-4004-ba16-c135403f320e",
   "metadata": {
    "tags": []
   },
   "outputs": [
    {
     "name": "stdout",
     "output_type": "stream",
     "text": [
      "The pauli matrices are hermitian, and each one is its own inverse. Lets double see\n",
      "The following are the pauli matrices\n"
     ]
    },
    {
     "data": {
      "text/latex": [
       "$\\displaystyle \\large\\mathbf{\\sigma_x}=\\begin{bmatrix}0 &1\\\\[1em]1 &0\\\\\\end{bmatrix}$"
      ],
      "text/plain": [
       "<IPython.core.display.Math object>"
      ]
     },
     "metadata": {},
     "output_type": "display_data"
    },
    {
     "data": {
      "text/latex": [
       "$\\displaystyle \\large\\mathbf{\\sigma_y}=\\begin{bmatrix}0 &-i\\\\[1em]i &0\\\\\\end{bmatrix}$"
      ],
      "text/plain": [
       "<IPython.core.display.Math object>"
      ]
     },
     "metadata": {},
     "output_type": "display_data"
    },
    {
     "data": {
      "text/latex": [
       "$\\displaystyle \\large\\mathbf{\\sigma_z}=\\begin{bmatrix}1 &0\\\\[1em]0 &-1\\\\\\end{bmatrix}$"
      ],
      "text/plain": [
       "<IPython.core.display.Math object>"
      ]
     },
     "metadata": {},
     "output_type": "display_data"
    },
    {
     "name": "stdout",
     "output_type": "stream",
     "text": [
      "lets consider the second pauli matrix times itself\n"
     ]
    },
    {
     "data": {
      "text/latex": [
       "$\\displaystyle \\large\\mathbf{\\sigma_y}\\mathbf{\\sigma_y}=\\begin{bmatrix}1 &0\\\\[1em]0 &1\\\\\\end{bmatrix}$"
      ],
      "text/plain": [
       "<IPython.core.display.Math object>"
      ]
     },
     "metadata": {},
     "output_type": "display_data"
    }
   ],
   "source": [
    "\"\"\"hermitian_matrices.ipynb\"\"\"\n",
    "\n",
    "# Cell 1 - The inverse of a Hermitian matrix is also Hermitian\n",
    "\n",
    "from __future__ import annotations\n",
    "\n",
    "import typing\n",
    "\n",
    "import numpy as np\n",
    "from qis101_utils import as_latex\n",
    "\n",
    "if typing.TYPE_CHECKING:\n",
    "    from numpy.typing import NDArray\n",
    "\n",
    "# TODO: Add your code below this\n",
    "\n",
    "# the pauli matrices are a well known set of hermitian matrices, lets use them as examples \n",
    "\n",
    "X: NDArray[np.complex_] = np.array([[0,1],\n",
    "                                   [1,0]])\n",
    "Y: NDArray[np.complex_] = np.array([[0,-1j],\n",
    "                                   [1j,0]])\n",
    "Z: NDArray[np.complex_] = np.array([[1,0],\n",
    "                                   [0,-1]])\n",
    "print(\"The pauli matrices are hermitian, and each one is its own inverse. Lets double see\")\n",
    "print(\"The following are the pauli matrices\") \n",
    "\n",
    "display(as_latex(X, prefix=r\"\\mathbf{\\sigma_x}=\"))\n",
    "display(as_latex(Y, prefix=r\"\\mathbf{\\sigma_y}=\"))\n",
    "display(as_latex(Z, prefix=r\"\\mathbf{\\sigma_z}=\"))\n",
    "\n",
    "print(\"lets consider the second pauli matrix times itself\")\n",
    "\n",
    "display(as_latex(np.dot(Y,Y),prefix=r\"\\mathbf{\\sigma_y}\\mathbf{\\sigma_y}=\"))\n"
   ]
  },
  {
   "cell_type": "code",
   "execution_count": 12,
   "id": "ccf20f1b-fb7f-4246-b58c-dd7a01965f03",
   "metadata": {
    "tags": []
   },
   "outputs": [
    {
     "name": "stdout",
     "output_type": "stream",
     "text": [
      "lets take the third pauli matrix and raise it to the 5th power\n"
     ]
    },
    {
     "data": {
      "text/latex": [
       "$\\displaystyle \\large\\mathbf{\\sigma_z}^5=\\begin{bmatrix}1 &0\\\\[1em]0 &-1\\\\\\end{bmatrix}$"
      ],
      "text/plain": [
       "<IPython.core.display.Math object>"
      ]
     },
     "metadata": {},
     "output_type": "display_data"
    },
    {
     "name": "stdout",
     "output_type": "stream",
     "text": [
      "which yields the matrix itself which is hermitian.\n"
     ]
    }
   ],
   "source": [
    "# Cell 2 - A Hermitian matrix raised to an integer\n",
    "#          exponent yields another Hermitian matrix\n",
    "\n",
    "# TODO: Add your code below this\n",
    "\n",
    "print(\"lets take the third pauli matrix and raise it to the 5th power\")\n",
    "\n",
    "display(as_latex( np.linalg.multi_dot([Z,Z,Z,Z,Z]),prefix=r\"\\mathbf{\\sigma_z}^5=\"))\n",
    "\n",
    "print(\"which yields the matrix itself which is hermitian.\")"
   ]
  },
  {
   "cell_type": "markdown",
   "id": "5307fb00-7708-430b-ac51-146a2cfdd70c",
   "metadata": {},
   "source": [
    "## The following are formal proofs\n",
    "\n",
    "#### \"The inverse of a Hermitian matrix is also Hermitian\"   \n",
    "Suppose we have a hermitian matrix $Q$ with inverse $Q^{-1}$.\n",
    "\\begin{align}\n",
    "    Q Q^{-1} &= I\n",
    "\\end{align}\n",
    "Let us perform the complex conjugate on both sides: \r",
    "\\begin{align}\n",
    "    (Q Q^{-1})^{\\dagger} &= I^{\\dagger}\n",
    "\\end{align}\n",
    "We make use of the fact that for any matrices $(AB)^{\\dagger} = B^{\\dagger}A^{\\dagger}$ and that $I^{\\dagger} = I$  \n",
    "\\begin{align}\n",
    "     (Q^{-1})^{\\dagger}Q^{\\dagger} &= I\n",
    "\\end{align}\n",
    "We now proceed to multiply $Q^{-1}$ on the right \n",
    "\\begin{align}\n",
    "     (Q^{-1})^{\\dagger}Q^{\\dagger}Q^{-1} &= IQ^{-1}\n",
    "\\end{align}\n",
    "Finally we use the fact that $Q$ is hermitian: \n",
    "\\begin{align}\n",
    "     (Q^{-1})^{\\dagger}QQ^{-1} = Q^{-1} \\implies (Q^{-1})^{\\dagger} &= Q^{-1}\n",
    "\\end{align}\n",
    "Thus we have proven that the inverse of a hermitian matrix is itself hermitian. QED  \n",
    "\n",
    "#### \"A Hermitian matrix raised to an integer exponent yields another Hermitian matrix\"\n",
    "We shall use the first principle of mathematical induction to prove this statement.     \n",
    "Suppose we have a hermitian matrix $Q$, we wish to prove that $(Q^{n})^{\\dagger} = Q^{n}$, $\\forall n \\in \\mathbb{N}$.     \n",
    "For the base step we have $n = 1$ which is trivially true, from our hypothesis.     \n",
    "We know proceed with the inductive step, with $(Q^{n})^{\\dagger} = Q^{n}$ as true we must show that $(Q^{n+1})^{\\dagger} = Q^{n+1}$ follows.       \n",
    "Let us consider $(Q^{n+1})^{\\dagger}$\n",
    "\\begin{align}\n",
    "    (Q^{n+1})^{\\dagger} &= (Q^{n}Q)^{\\dagger} \\\\\n",
    "    &= Q^{\\dagger}(Q^{n})^{\\dagger} \n",
    "\\end{align}\n",
    "Our hypothesis guarantees that $Q^{\\dagger} = Q$ and our inductive hypothesis $(Q^{n})^{\\dagger} = Q^{n}$, \n",
    "\\begin{align}\n",
    "    (Q^{n+1})^{\\dagger} &= Q^{\\dagger}(Q^{n})^{\\dagger} \\\\\n",
    "    &= QQ^{n} \\\\\n",
    "    &= Q^{n+1} \n",
    "\\end{align}\n",
    "Therefore via the first principle of mathematical induction we have shown that $(Q^{n})^{\\dagger} = Q^{n}$, $\\forall n \\in \\mathbb{N}$. QED\n",
    "\n",
    "(having proven these statements we are rather close to proving the well known fact that hermitian matrices form a group under matrix multiplication)\n"
   ]
  }
 ],
 "metadata": {
  "kernelspec": {
   "display_name": "Python 3 (ipykernel)",
   "language": "python",
   "name": "python3"
  },
  "language_info": {
   "codemirror_mode": {
    "name": "ipython",
    "version": 3
   },
   "file_extension": ".py",
   "mimetype": "text/x-python",
   "name": "python",
   "nbconvert_exporter": "python",
   "pygments_lexer": "ipython3",
   "version": "3.9.16"
  }
 },
 "nbformat": 4,
 "nbformat_minor": 5
}
