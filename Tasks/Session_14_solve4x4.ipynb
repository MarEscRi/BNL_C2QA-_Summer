{
 "cells": [
  {
   "cell_type": "code",
   "execution_count": 7,
   "id": "c4039191-bcff-4b01-93cb-f85f6f6e8995",
   "metadata": {
    "tags": []
   },
   "outputs": [
    {
     "name": "stdout",
     "output_type": "stream",
     "text": [
      "We wish to solve for x, in Ax = b\n"
     ]
    },
    {
     "data": {
      "text/latex": [
       "$\\displaystyle \\large\\mathbf{A}=\\begin{bmatrix}1 &2 &1 &-1\\\\[1em]3 &2 &4 &4\\\\[1em]4 &4 &3 &4\\\\[1em]2 &0 &1 &5\\\\\\end{bmatrix}$"
      ],
      "text/plain": [
       "<IPython.core.display.Math object>"
      ]
     },
     "metadata": {},
     "output_type": "display_data"
    },
    {
     "data": {
      "text/latex": [
       "$\\displaystyle \\large\\mathbf{b}=\\begin{bmatrix}5\\\\[1em]16\\\\[1em]22\\\\[1em]15\\\\\\end{bmatrix}$"
      ],
      "text/plain": [
       "<IPython.core.display.Math object>"
      ]
     },
     "metadata": {},
     "output_type": "display_data"
    },
    {
     "data": {
      "text/latex": [
       "$\\displaystyle \\large\\mathbf{x}=\\begin{bmatrix}16\\\\[1em]-6\\\\[1em]-2\\\\[1em]-3\\\\\\end{bmatrix}$"
      ],
      "text/plain": [
       "<IPython.core.display.Math object>"
      ]
     },
     "metadata": {},
     "output_type": "display_data"
    }
   ],
   "source": [
    "\"\"\"solve4x4.ipynb\"\"\"\n",
    "# Cell 1\n",
    "\n",
    "from __future__ import annotations\n",
    "\n",
    "import typing\n",
    "\n",
    "import numpy as np\n",
    "from IPython.core.display import Math\n",
    "from qis101_utils import as_latex\n",
    "\n",
    "if typing.TYPE_CHECKING:\n",
    "    from numpy.typing import NDArray\n",
    "\n",
    "# TODO: Add your code below this\n",
    "\n",
    "A: NDArray[np.float_] = np.array([ [1, 2, 1, -1],\n",
    "                                   [3, 2, 4, 4],\n",
    "                                   [4, 4, 3, 4],\n",
    "                                   [2, 0, 1, 5] ])  \n",
    "b: NDArray[np.float_] = np.array([ [5], \n",
    "                                   [16],\n",
    "                                   [22],\n",
    "                                   [15] ])\n",
    "\n",
    "x: NDArray[np.float_] = np.linalg.solve(A,b)\n",
    "\n",
    "print(\"We wish to solve for x, in Ax = b\") \n",
    "\n",
    "display(as_latex(A, prefix=r\"\\mathbf{A}=\"))\n",
    "display(as_latex(b, prefix=r\"\\mathbf{b}=\"))\n",
    "\n",
    "display(as_latex(x, prefix=r\"\\mathbf{x}=\"))\n"
   ]
  },
  {
   "cell_type": "code",
   "execution_count": null,
   "id": "395cae7f-318e-4587-8bc7-61622fc79c48",
   "metadata": {},
   "outputs": [],
   "source": []
  }
 ],
 "metadata": {
  "kernelspec": {
   "display_name": "Python 3 (ipykernel)",
   "language": "python",
   "name": "python3"
  },
  "language_info": {
   "codemirror_mode": {
    "name": "ipython",
    "version": 3
   },
   "file_extension": ".py",
   "mimetype": "text/x-python",
   "name": "python",
   "nbconvert_exporter": "python",
   "pygments_lexer": "ipython3",
   "version": "3.9.16"
  }
 },
 "nbformat": 4,
 "nbformat_minor": 5
}
